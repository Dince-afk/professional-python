{
 "cells": [
  {
   "cell_type": "code",
   "execution_count": 2,
   "id": "d4e532a1",
   "metadata": {},
   "outputs": [],
   "source": [
    "import pandas as pd"
   ]
  },
  {
   "cell_type": "code",
   "execution_count": 3,
   "id": "a43bc2ed",
   "metadata": {},
   "outputs": [
    {
     "name": "stdout",
     "output_type": "stream",
     "text": [
      "The autoreload extension is already loaded. To reload it, use:\n",
      "  %reload_ext autoreload\n"
     ]
    }
   ],
   "source": [
    "%load_ext autoreload\n",
    "%autoreload 2\n",
    "\n",
    "from src.api import fetch_data\n",
    "from src.data import clean_data"
   ]
  },
  {
   "cell_type": "code",
   "execution_count": 4,
   "id": "21cc1c1e",
   "metadata": {},
   "outputs": [
    {
     "data": {
      "application/vnd.microsoft.datawrangler.viewer.v0+json": {
       "columns": [
        {
         "name": "index",
         "rawType": "int64",
         "type": "integer"
        },
        {
         "name": "userId",
         "rawType": "int64",
         "type": "integer"
        },
        {
         "name": "id",
         "rawType": "int64",
         "type": "integer"
        },
        {
         "name": "title",
         "rawType": "object",
         "type": "string"
        },
        {
         "name": "completed",
         "rawType": "bool",
         "type": "boolean"
        }
       ],
       "conversionMethod": "pd.DataFrame",
       "ref": "a153dd63-0fbf-4459-8075-c24880f84126",
       "rows": [
        [
         "0",
         "1",
         "1",
         "delectus aut autem",
         "False"
        ],
        [
         "1",
         "1",
         "2",
         "quis ut nam facilis et officia qui",
         "False"
        ],
        [
         "2",
         "1",
         "3",
         "fugiat veniam minus",
         "False"
        ],
        [
         "3",
         "1",
         "4",
         "et porro tempora",
         "True"
        ],
        [
         "4",
         "1",
         "5",
         "laboriosam mollitia et enim quasi adipisci quia provident illum",
         "False"
        ],
        [
         "5",
         "1",
         "6",
         "qui ullam ratione quibusdam voluptatem quia omnis",
         "False"
        ],
        [
         "6",
         "1",
         "7",
         "illo expedita consequatur quia in",
         "False"
        ],
        [
         "7",
         "1",
         "8",
         "quo adipisci enim quam ut ab",
         "True"
        ],
        [
         "8",
         "1",
         "9",
         "molestiae perspiciatis ipsa",
         "False"
        ],
        [
         "9",
         "1",
         "10",
         "illo est ratione doloremque quia maiores aut",
         "True"
        ],
        [
         "10",
         "1",
         "11",
         "vero rerum temporibus dolor",
         "True"
        ],
        [
         "11",
         "1",
         "12",
         "ipsa repellendus fugit nisi",
         "True"
        ],
        [
         "12",
         "1",
         "13",
         "et doloremque nulla",
         "False"
        ],
        [
         "13",
         "1",
         "14",
         "repellendus sunt dolores architecto voluptatum",
         "True"
        ],
        [
         "14",
         "1",
         "15",
         "ab voluptatum amet voluptas",
         "True"
        ],
        [
         "15",
         "1",
         "16",
         "accusamus eos facilis sint et aut voluptatem",
         "True"
        ],
        [
         "16",
         "1",
         "17",
         "quo laboriosam deleniti aut qui",
         "True"
        ],
        [
         "17",
         "1",
         "18",
         "dolorum est consequatur ea mollitia in culpa",
         "False"
        ],
        [
         "18",
         "1",
         "19",
         "molestiae ipsa aut voluptatibus pariatur dolor nihil",
         "True"
        ],
        [
         "19",
         "1",
         "20",
         "ullam nobis libero sapiente ad optio sint",
         "True"
        ],
        [
         "20",
         "2",
         "21",
         "suscipit repellat esse quibusdam voluptatem incidunt",
         "False"
        ],
        [
         "21",
         "2",
         "22",
         "distinctio vitae autem nihil ut molestias quo",
         "True"
        ],
        [
         "22",
         "2",
         "23",
         "et itaque necessitatibus maxime molestiae qui quas velit",
         "False"
        ],
        [
         "23",
         "2",
         "24",
         "adipisci non ad dicta qui amet quaerat doloribus ea",
         "False"
        ],
        [
         "24",
         "2",
         "25",
         "voluptas quo tenetur perspiciatis explicabo natus",
         "True"
        ],
        [
         "25",
         "2",
         "26",
         "aliquam aut quasi",
         "True"
        ],
        [
         "26",
         "2",
         "27",
         "veritatis pariatur delectus",
         "True"
        ],
        [
         "27",
         "2",
         "28",
         "nesciunt totam sit blanditiis sit",
         "False"
        ],
        [
         "28",
         "2",
         "29",
         "laborum aut in quam",
         "False"
        ],
        [
         "29",
         "2",
         "30",
         "nemo perspiciatis repellat ut dolor libero commodi blanditiis omnis",
         "True"
        ],
        [
         "30",
         "2",
         "31",
         "repudiandae totam in est sint facere fuga",
         "False"
        ],
        [
         "31",
         "2",
         "32",
         "earum doloribus ea doloremque quis",
         "False"
        ],
        [
         "32",
         "2",
         "33",
         "sint sit aut vero",
         "False"
        ],
        [
         "33",
         "2",
         "34",
         "porro aut necessitatibus eaque distinctio",
         "False"
        ],
        [
         "34",
         "2",
         "35",
         "repellendus veritatis molestias dicta incidunt",
         "True"
        ],
        [
         "35",
         "2",
         "36",
         "excepturi deleniti adipisci voluptatem et neque optio illum ad",
         "True"
        ],
        [
         "36",
         "2",
         "37",
         "sunt cum tempora",
         "False"
        ],
        [
         "37",
         "2",
         "38",
         "totam quia non",
         "False"
        ],
        [
         "38",
         "2",
         "39",
         "doloremque quibusdam asperiores libero corrupti illum qui omnis",
         "False"
        ],
        [
         "39",
         "2",
         "40",
         "totam atque quo nesciunt",
         "True"
        ],
        [
         "40",
         "3",
         "41",
         "aliquid amet impedit consequatur aspernatur placeat eaque fugiat suscipit",
         "False"
        ],
        [
         "41",
         "3",
         "42",
         "rerum perferendis error quia ut eveniet",
         "False"
        ],
        [
         "42",
         "3",
         "43",
         "tempore ut sint quis recusandae",
         "True"
        ],
        [
         "43",
         "3",
         "44",
         "cum debitis quis accusamus doloremque ipsa natus sapiente omnis",
         "True"
        ],
        [
         "44",
         "3",
         "45",
         "velit soluta adipisci molestias reiciendis harum",
         "False"
        ],
        [
         "45",
         "3",
         "46",
         "vel voluptatem repellat nihil placeat corporis",
         "False"
        ],
        [
         "46",
         "3",
         "47",
         "nam qui rerum fugiat accusamus",
         "False"
        ],
        [
         "47",
         "3",
         "48",
         "sit reprehenderit omnis quia",
         "False"
        ],
        [
         "48",
         "3",
         "49",
         "ut necessitatibus aut maiores debitis officia blanditiis velit et",
         "False"
        ],
        [
         "49",
         "3",
         "50",
         "cupiditate necessitatibus ullam aut quis dolor voluptate",
         "True"
        ]
       ],
       "shape": {
        "columns": 4,
        "rows": 200
       }
      },
      "text/html": [
       "<div>\n",
       "<style scoped>\n",
       "    .dataframe tbody tr th:only-of-type {\n",
       "        vertical-align: middle;\n",
       "    }\n",
       "\n",
       "    .dataframe tbody tr th {\n",
       "        vertical-align: top;\n",
       "    }\n",
       "\n",
       "    .dataframe thead th {\n",
       "        text-align: right;\n",
       "    }\n",
       "</style>\n",
       "<table border=\"1\" class=\"dataframe\">\n",
       "  <thead>\n",
       "    <tr style=\"text-align: right;\">\n",
       "      <th></th>\n",
       "      <th>userId</th>\n",
       "      <th>id</th>\n",
       "      <th>title</th>\n",
       "      <th>completed</th>\n",
       "    </tr>\n",
       "  </thead>\n",
       "  <tbody>\n",
       "    <tr>\n",
       "      <th>0</th>\n",
       "      <td>1</td>\n",
       "      <td>1</td>\n",
       "      <td>delectus aut autem</td>\n",
       "      <td>False</td>\n",
       "    </tr>\n",
       "    <tr>\n",
       "      <th>1</th>\n",
       "      <td>1</td>\n",
       "      <td>2</td>\n",
       "      <td>quis ut nam facilis et officia qui</td>\n",
       "      <td>False</td>\n",
       "    </tr>\n",
       "    <tr>\n",
       "      <th>2</th>\n",
       "      <td>1</td>\n",
       "      <td>3</td>\n",
       "      <td>fugiat veniam minus</td>\n",
       "      <td>False</td>\n",
       "    </tr>\n",
       "    <tr>\n",
       "      <th>3</th>\n",
       "      <td>1</td>\n",
       "      <td>4</td>\n",
       "      <td>et porro tempora</td>\n",
       "      <td>True</td>\n",
       "    </tr>\n",
       "    <tr>\n",
       "      <th>4</th>\n",
       "      <td>1</td>\n",
       "      <td>5</td>\n",
       "      <td>laboriosam mollitia et enim quasi adipisci qui...</td>\n",
       "      <td>False</td>\n",
       "    </tr>\n",
       "    <tr>\n",
       "      <th>...</th>\n",
       "      <td>...</td>\n",
       "      <td>...</td>\n",
       "      <td>...</td>\n",
       "      <td>...</td>\n",
       "    </tr>\n",
       "    <tr>\n",
       "      <th>195</th>\n",
       "      <td>10</td>\n",
       "      <td>196</td>\n",
       "      <td>consequuntur aut ut fugit similique</td>\n",
       "      <td>True</td>\n",
       "    </tr>\n",
       "    <tr>\n",
       "      <th>196</th>\n",
       "      <td>10</td>\n",
       "      <td>197</td>\n",
       "      <td>dignissimos quo nobis earum saepe</td>\n",
       "      <td>True</td>\n",
       "    </tr>\n",
       "    <tr>\n",
       "      <th>197</th>\n",
       "      <td>10</td>\n",
       "      <td>198</td>\n",
       "      <td>quis eius est sint explicabo</td>\n",
       "      <td>True</td>\n",
       "    </tr>\n",
       "    <tr>\n",
       "      <th>198</th>\n",
       "      <td>10</td>\n",
       "      <td>199</td>\n",
       "      <td>numquam repellendus a magnam</td>\n",
       "      <td>True</td>\n",
       "    </tr>\n",
       "    <tr>\n",
       "      <th>199</th>\n",
       "      <td>10</td>\n",
       "      <td>200</td>\n",
       "      <td>ipsam aperiam voluptates qui</td>\n",
       "      <td>False</td>\n",
       "    </tr>\n",
       "  </tbody>\n",
       "</table>\n",
       "<p>200 rows × 4 columns</p>\n",
       "</div>"
      ],
      "text/plain": [
       "     userId   id                                              title  completed\n",
       "0         1    1                                 delectus aut autem      False\n",
       "1         1    2                 quis ut nam facilis et officia qui      False\n",
       "2         1    3                                fugiat veniam minus      False\n",
       "3         1    4                                   et porro tempora       True\n",
       "4         1    5  laboriosam mollitia et enim quasi adipisci qui...      False\n",
       "..      ...  ...                                                ...        ...\n",
       "195      10  196                consequuntur aut ut fugit similique       True\n",
       "196      10  197                  dignissimos quo nobis earum saepe       True\n",
       "197      10  198                       quis eius est sint explicabo       True\n",
       "198      10  199                       numquam repellendus a magnam       True\n",
       "199      10  200                       ipsam aperiam voluptates qui      False\n",
       "\n",
       "[200 rows x 4 columns]"
      ]
     },
     "execution_count": 4,
     "metadata": {},
     "output_type": "execute_result"
    }
   ],
   "source": [
    "pd.DataFrame(fetch_data())"
   ]
  },
  {
   "cell_type": "code",
   "execution_count": 5,
   "id": "b4698425",
   "metadata": {},
   "outputs": [
    {
     "data": {
      "application/vnd.microsoft.datawrangler.viewer.v0+json": {
       "columns": [
        {
         "name": "index",
         "rawType": "int64",
         "type": "integer"
        },
        {
         "name": "userId",
         "rawType": "int64",
         "type": "integer"
        },
        {
         "name": "id",
         "rawType": "object",
         "type": "unknown"
        },
        {
         "name": "title",
         "rawType": "object",
         "type": "string"
        },
        {
         "name": "completed",
         "rawType": "bool",
         "type": "boolean"
        }
       ],
       "conversionMethod": "pd.DataFrame",
       "ref": "9a2127fc-6184-4a6f-8f9b-b309bdc639f0",
       "rows": [
        [
         "0",
         "1",
         "1",
         "delectus aut autem",
         "False"
        ],
        [
         "1",
         "1",
         "2",
         "quis ut nam facilis et officia qui",
         "False"
        ],
        [
         "2",
         "1",
         "3",
         "fugiat veniam minus",
         "False"
        ],
        [
         "3",
         "1",
         "4",
         "et porro tempora",
         "True"
        ],
        [
         "4",
         "1",
         "5",
         "laboriosam mollitia et enim quasi adipisci quia provident illum",
         "False"
        ]
       ],
       "shape": {
        "columns": 4,
        "rows": 5
       }
      },
      "text/html": [
       "<div>\n",
       "<style scoped>\n",
       "    .dataframe tbody tr th:only-of-type {\n",
       "        vertical-align: middle;\n",
       "    }\n",
       "\n",
       "    .dataframe tbody tr th {\n",
       "        vertical-align: top;\n",
       "    }\n",
       "\n",
       "    .dataframe thead th {\n",
       "        text-align: right;\n",
       "    }\n",
       "</style>\n",
       "<table border=\"1\" class=\"dataframe\">\n",
       "  <thead>\n",
       "    <tr style=\"text-align: right;\">\n",
       "      <th></th>\n",
       "      <th>userId</th>\n",
       "      <th>id</th>\n",
       "      <th>title</th>\n",
       "      <th>completed</th>\n",
       "    </tr>\n",
       "  </thead>\n",
       "  <tbody>\n",
       "    <tr>\n",
       "      <th>0</th>\n",
       "      <td>1</td>\n",
       "      <td>1</td>\n",
       "      <td>delectus aut autem</td>\n",
       "      <td>False</td>\n",
       "    </tr>\n",
       "    <tr>\n",
       "      <th>1</th>\n",
       "      <td>1</td>\n",
       "      <td>2</td>\n",
       "      <td>quis ut nam facilis et officia qui</td>\n",
       "      <td>False</td>\n",
       "    </tr>\n",
       "    <tr>\n",
       "      <th>2</th>\n",
       "      <td>1</td>\n",
       "      <td>3</td>\n",
       "      <td>fugiat veniam minus</td>\n",
       "      <td>False</td>\n",
       "    </tr>\n",
       "    <tr>\n",
       "      <th>3</th>\n",
       "      <td>1</td>\n",
       "      <td>4</td>\n",
       "      <td>et porro tempora</td>\n",
       "      <td>True</td>\n",
       "    </tr>\n",
       "    <tr>\n",
       "      <th>4</th>\n",
       "      <td>1</td>\n",
       "      <td>5</td>\n",
       "      <td>laboriosam mollitia et enim quasi adipisci qui...</td>\n",
       "      <td>False</td>\n",
       "    </tr>\n",
       "  </tbody>\n",
       "</table>\n",
       "</div>"
      ],
      "text/plain": [
       "   userId id                                              title  completed\n",
       "0       1  1                                 delectus aut autem      False\n",
       "1       1  2                 quis ut nam facilis et officia qui      False\n",
       "2       1  3                                fugiat veniam minus      False\n",
       "3       1  4                                   et porro tempora       True\n",
       "4       1  5  laboriosam mollitia et enim quasi adipisci qui...      False"
      ]
     },
     "execution_count": 5,
     "metadata": {},
     "output_type": "execute_result"
    }
   ],
   "source": [
    "# Loaded variable 'df' from kernel state\n",
    "df = pd.DataFrame(fetch_data())\n",
    "\n",
    "df_clean = clean_data(df.copy())\n",
    "df_clean.head()"
   ]
  }
 ],
 "metadata": {
  "kernelspec": {
   "display_name": ".venv",
   "language": "python",
   "name": "python3"
  },
  "language_info": {
   "codemirror_mode": {
    "name": "ipython",
    "version": 3
   },
   "file_extension": ".py",
   "mimetype": "text/x-python",
   "name": "python",
   "nbconvert_exporter": "python",
   "pygments_lexer": "ipython3",
   "version": "3.9.22"
  }
 },
 "nbformat": 4,
 "nbformat_minor": 5
}
